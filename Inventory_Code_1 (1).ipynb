{
  "nbformat": 4,
  "nbformat_minor": 0,
  "metadata": {
    "colab": {
      "name": "Inventory_Code_1",
      "provenance": [],
      "collapsed_sections": []
    },
    "kernelspec": {
      "name": "python3",
      "display_name": "Python 3"
    },
    "language_info": {
      "name": "python"
    }
  },
  "cells": [
    {
      "cell_type": "markdown",
      "metadata": {
        "id": "fpDG9-6nc49D"
      },
      "source": [
        "***INVENTORY MANAGEMENT SYSTEM CODE1***\n",
        "\n",
        "**Reading Data from JSON**"
      ]
    },
    {
      "cell_type": "code",
      "metadata": {
        "id": "JC16Z_WL9QtB"
      },
      "source": [
        "import json\n",
        "#opening file and converting to dictionaries\n",
        "fp=open('record.json','r')\n",
        "rec=fp.read()\n",
        "fp.close()\n",
        "\n",
        "file=json.loads(rec)\n",
        "\n",
        "print('****************************WELCOME TO IVENTORY MANAGEMENT SYSTEM*********************************')"
      ],
      "execution_count": null,
      "outputs": []
    },
    {
      "cell_type": "markdown",
      "metadata": {
        "id": "K1wPec-Zcf2b"
      },
      "source": [
        "***Adding & Updating Items To Inventory***\n"
      ]
    },
    {
      "cell_type": "code",
      "metadata": {
        "id": "086CI7wJ-B_4"
      },
      "source": [
        "####Adding items to Inventory and updating them using functionalities\n",
        "print('->Here you can Update your Inventory by adding and changing values of the items or the items<-')\n",
        "\n",
        "prod_id=input('Enter the ID of the product ')\n",
        "prod_name=input('Enter the Product Name ')\n",
        "prod_comp=input('Enter the company of the product ')\n",
        "prod_price=input('Enter the price of the product ')\n",
        "prod_qty=input('Enter the Product Quantity ')\n",
        "prod_mfgdate=input('Enter the Manufacture Date of the product ')\n",
        "prod_expdate=input('Enter the Expiry date of the product ')\n",
        "\n",
        "if prod_id in file.keys():\n",
        "  txt=int(file[prod_id]['quantity'])+int(prod_qty)\n",
        "else:\n",
        "  txt=int(prod_qty)\n",
        "  \n",
        "\n",
        "file[prod_id]= {'a_name':prod_name, 'company':prod_comp, 'price':prod_price, 'quantity':txt, 'y_Mfg.Date':prod_mfgdate, 'z_Exp.Date':prod_expdate} \n",
        "\n",
        "js=json.dumps(file)\n",
        "data=open('record.json','w')\n",
        "data.write(js)\n",
        "data.close()\n"
      ],
      "execution_count": null,
      "outputs": []
    }
  ]
}