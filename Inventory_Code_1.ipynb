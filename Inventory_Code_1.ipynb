{
  "nbformat": 4,
  "nbformat_minor": 0,
  "metadata": {
    "colab": {
      "name": "Inventory_Code_1",
      "provenance": [],
      "collapsed_sections": []
    },
    "kernelspec": {
      "name": "python3",
      "display_name": "Python 3"
    },
    "language_info": {
      "name": "python"
    }
  },
  "cells": [
    {
      "cell_type": "markdown",
      "metadata": {
        "id": "fpDG9-6nc49D"
      },
      "source": [
        "***INVENTORY MANAGEMENT SYSTEM CODE1***\n",
        "\n",
        "**Reading Data from JSON**"
      ]
    },
    {
      "cell_type": "code",
      "metadata": {
        "id": "JC16Z_WL9QtB",
        "colab": {
          "base_uri": "https://localhost:8080/"
        },
        "outputId": "bcb135b2-7597-4e78-ad38-261a73874e1a"
      },
      "source": [
        "import json\n",
        "#opening file and converting to dictionaries\n",
        "fp=open('record.json','r')\n",
        "rec=fp.read()\n",
        "fp.close()\n",
        "\n",
        "file=json.loads(rec)\n",
        "\n",
        "print('****************************WELCOME TO IVENTORY MANAGEMENT SYSTEM*********************************')"
      ],
      "execution_count": 1,
      "outputs": [
        {
          "output_type": "stream",
          "name": "stdout",
          "text": [
            "****************************WELCOME TO IVENTORY MANAGEMENT SYSTEM*********************************\n"
          ]
        }
      ]
    },
    {
      "cell_type": "markdown",
      "metadata": {
        "id": "K1wPec-Zcf2b"
      },
      "source": [
        "***Adding & Updating Items To Inventory***\n"
      ]
    },
    {
      "cell_type": "code",
      "metadata": {
        "id": "086CI7wJ-B_4",
        "colab": {
          "base_uri": "https://localhost:8080/"
        },
        "outputId": "144ed618-d42d-4318-cc32-357914a900ce"
      },
      "source": [
        "####Adding items to Inventory and updating them using functionalities\n",
        "print('->Here you can Update your Inventory by adding and changing values of the items or the items<-')\n",
        "print('================================================================================')\n",
        "prod_id=input('Enter the ID of the product: ')\n",
        "prod_name=input('Enter the Product Name: ')\n",
        "prod_comp=input('Enter the company of the product: ')\n",
        "prod_price=input('Enter the price of the product: ')\n",
        "prod_qty=input('Enter the Product Quantity: ')\n",
        "prod_mfgdate=input('Enter the Manufacture Date of the product: ')\n",
        "prod_expdate=input('Enter the Expiry date of the product: ')\n",
        "\n",
        "if prod_id in file.keys():\n",
        "  txt=int(file[prod_id]['quantity'])+int(prod_qty)\n",
        "else:\n",
        "  txt=int(prod_qty)\n",
        "  \n",
        "\n",
        "file[prod_id]= {'a_name':prod_name, 'company':prod_comp, 'price':prod_price, 'quantity':txt, 'y_Mfg.Date':prod_mfgdate, 'z_Exp.Date':prod_expdate} \n",
        "\n",
        "js=json.dumps(file)\n",
        "data=open('record.json','w')\n",
        "data.write(js)\n",
        "data.close()\n"
      ],
      "execution_count": 2,
      "outputs": [
        {
          "name": "stdout",
          "output_type": "stream",
          "text": [
            "->Here you can Update your Inventory by adding and changing values of the items or the items<-\n",
            "================================================================================\n",
            "Enter the ID of the product: 1031\n",
            "Enter the Product Name: Choco Bar\n",
            "Enter the company of the product: Nestle\n",
            "Enter the price of the product: 25\n",
            "Enter the Product Quantity: 456\n",
            "Enter the Manufacture Date of the product: 10-01-2020\n",
            "Enter the Expiry date of the product: 11-08-2020\n"
          ]
        }
      ]
    },
    {
      "cell_type": "markdown",
      "metadata": {
        "id": "7v0Uo2nN-tx_"
      },
      "source": [
        "***Record File Overwiew***"
      ]
    },
    {
      "cell_type": "code",
      "metadata": {
        "colab": {
          "base_uri": "https://localhost:8080/"
        },
        "id": "YtY1X6Id-s0R",
        "outputId": "195e0cd2-264d-4141-8bd0-e54956e22f55"
      },
      "source": [
        "file"
      ],
      "execution_count": 4,
      "outputs": [
        {
          "output_type": "execute_result",
          "data": {
            "text/plain": [
              "{'1001': {'a_name': 'Choco Cake',\n",
              "  'company': 'Cadbury',\n",
              "  'price': 100,\n",
              "  'quantity': 34,\n",
              "  'y_Mfg.Date': '16-10-2020',\n",
              "  'z_Exp.Date': '7-5-2021'},\n",
              " '1002': {'a_name': 'Milk Cake',\n",
              "  'company': 'KitKat',\n",
              "  'price': 800,\n",
              "  'quantity': 100,\n",
              "  'y_Mfg.Date': '5-9-2020',\n",
              "  'z_Exp.Date': '12-3-2021'},\n",
              " '1003': {'a_name': 'Dark Chocolate',\n",
              "  'company': 'Amul',\n",
              "  'price': '120',\n",
              "  'quantity': 765,\n",
              "  'y_Mfg.Date': '12-02-2020',\n",
              "  'z_Exp.Date': '13-05-2020'},\n",
              " '1004': {'a_name': 'Galaxy',\n",
              "  'company': 'Cola',\n",
              "  'price': '560',\n",
              "  'quantity': 85,\n",
              "  'y_Mfg.Date': '05-03-2020',\n",
              "  'z_Exp.Date': '18-09-2020'},\n",
              " '1005': {'a_name': 'Perk',\n",
              "  'company': 'Cadbury',\n",
              "  'price': '55',\n",
              "  'quantity': 180,\n",
              "  'y_Mfg.Date': '10-01-2020',\n",
              "  'z_Exp.Date': '12-06-2020'},\n",
              " '1006': {'a_name': 'Friberg',\n",
              "  'company': 'Parle',\n",
              "  'price': '120',\n",
              "  'quantity': 150,\n",
              "  'y_Mfg.Date': '06-04-2020',\n",
              "  'z_Exp.Date': '11-11-2020'},\n",
              " '1007': {'a_name': 'One Bar',\n",
              "  'company': 'Nestle',\n",
              "  'price': '60',\n",
              "  'quantity': 500,\n",
              "  'y_Mfg.Date': '13-05-2020',\n",
              "  'z_Exp.Date': '19-11-2020'},\n",
              " '1008': {'a_name': 'Chuckles',\n",
              "  'company': 'Lotus',\n",
              "  'price': '600',\n",
              "  'quantity': 453,\n",
              "  'y_Mfg.Date': '30-12-2020',\n",
              "  'z_Exp.Date': '15-05-2021'},\n",
              " '1009': {'a_name': 'snickers',\n",
              "  'company': 'Mars',\n",
              "  'price': '40',\n",
              "  'quantity': 650,\n",
              "  'y_Mfg.Date': '12-11-2020',\n",
              "  'z_Exp.Date': '24-06-2021'},\n",
              " '1010': {'a_name': 'ChocOn',\n",
              "  'company': 'Mahak',\n",
              "  'price': '210',\n",
              "  'quantity': 160,\n",
              "  'y_Mfg.Date': '07-05-2020',\n",
              "  'z_Exp.Date': '23-08-2020'},\n",
              " '1011': {'a_name': 'Fun Fan',\n",
              "  'company': 'Campo',\n",
              "  'price': '51',\n",
              "  'quantity': 629,\n",
              "  'y_Mfg.Date': '05-12-2020',\n",
              "  'z_Exp.Date': '29-06-2021'},\n",
              " '1012': {'a_name': 'Kinder Joy',\n",
              "  'company': 'Ferrero',\n",
              "  'price': '60',\n",
              "  'quantity': 850,\n",
              "  'y_Mfg.Date': '21-01-2020',\n",
              "  'z_Exp.Date': '16-07-2020'},\n",
              " '1013': {'a_name': 'Brookside',\n",
              "  'company': 'Hershey',\n",
              "  'price': '141',\n",
              "  'quantity': 246,\n",
              "  'y_Mfg.Date': '14-08-2020',\n",
              "  'z_Exp.Date': '15-02-2021'},\n",
              " '1014': {'a_name': 'Chocolate',\n",
              "  'company': 'Pasari',\n",
              "  'price': '475',\n",
              "  'quantity': 951,\n",
              "  'y_Mfg.Date': '09-09-2020',\n",
              "  'z_Exp.Date': '12-12-2020'},\n",
              " '1015': {'a_name': 'Choco Pie',\n",
              "  'company': 'Lotte',\n",
              "  'price': '25',\n",
              "  'quantity': 980,\n",
              "  'y_Mfg.Date': '03-04-2020',\n",
              "  'z_Exp.Date': '05-06-2020'},\n",
              " '1016': {'a_name': 'Milky Bar',\n",
              "  'company': 'Nestle',\n",
              "  'price': '15',\n",
              "  'quantity': 1001,\n",
              "  'y_Mfg.Date': '01-01-2020',\n",
              "  'z_Exp.Date': '16-09-2020'},\n",
              " '1017': {'a_name': 'Eclairs',\n",
              "  'company': 'CandyMan',\n",
              "  'price': '42',\n",
              "  'quantity': 564,\n",
              "  'y_Mfg.Date': '17-11-2020',\n",
              "  'z_Exp.Date': '15-04-2021'},\n",
              " '1018': {'a_name': 'Kismi Bar',\n",
              "  'company': 'Parle',\n",
              "  'price': '45',\n",
              "  'quantity': 870,\n",
              "  'y_Mfg.Date': '04-07-2020',\n",
              "  'z_Exp.Date': '31-12-2020'},\n",
              " '1019': {'a_name': 'Treat',\n",
              "  'company': 'Campo',\n",
              "  'price': '30',\n",
              "  'quantity': 350,\n",
              "  'y_Mfg.Date': '08-07-2020',\n",
              "  'z_Exp.Date': '09-03-2021'},\n",
              " '1020': {'a_name': 'Twix',\n",
              "  'company': 'Mars',\n",
              "  'price': '78',\n",
              "  'quantity': 456,\n",
              "  'y_Mfg.Date': '01-03-2020',\n",
              "  'z_Exp.Date': '10-10-2020'},\n",
              " '1021': {'a_name': 'Almond Bar',\n",
              "  'company': 'Amul',\n",
              "  'price': '65',\n",
              "  'quantity': 357,\n",
              "  'y_Mfg.Date': '10-04-2020',\n",
              "  'z_Exp.Date': '05-10-2020'},\n",
              " '1022': {'a_name': 'Kajoos',\n",
              "  'company': 'Lotus',\n",
              "  'price': '16',\n",
              "  'quantity': 254,\n",
              "  'y_Mfg.Date': '09-04-2020',\n",
              "  'z_Exp.Date': '25-10-2020'},\n",
              " '1023': {'a_name': 'Silk',\n",
              "  'company': 'Cadbury',\n",
              "  'price': '250',\n",
              "  'quantity': 789,\n",
              "  'y_Mfg.Date': '14-10-2020',\n",
              "  'z_Exp.Date': '28-10-2021'},\n",
              " '1024': {'a_name': 'Mon Cheri',\n",
              "  'company': 'Ferrero',\n",
              "  'price': '142',\n",
              "  'quantity': 943,\n",
              "  'y_Mfg.Date': '06-02-2020',\n",
              "  'z_Exp.Date': '09-07-2020'},\n",
              " '1025': {'a_name': 'Melto',\n",
              "  'company': 'Campco',\n",
              "  'price': '97',\n",
              "  'quantity': 982,\n",
              "  'y_Mfg.Date': '22-11-2020',\n",
              "  'z_Exp.Date': '13-05-2021'},\n",
              " '1026': {'a_name': 'Coconut',\n",
              "  'company': 'ChocOn',\n",
              "  'price': '41',\n",
              "  'quantity': 238,\n",
              "  'y_Mfg.Date': '18-09-2020',\n",
              "  'z_Exp.Date': '27-12-2020'},\n",
              " '1027': {'a_name': 'Toffichoo',\n",
              "  'company': 'CandyMan',\n",
              "  'price': '58',\n",
              "  'quantity': 451,\n",
              "  'y_Mfg.Date': '02-02-2020',\n",
              "  'z_Exp.Date': '09-11-2020'},\n",
              " '1028': {'a_name': 'Fruit Drop',\n",
              "  'company': 'Parle',\n",
              "  'price': '72',\n",
              "  'quantity': 754,\n",
              "  'y_Mfg.Date': '11-10-2020',\n",
              "  'z_Exp.Date': '16-06-2021'},\n",
              " '1029': {'a_name': 'Turbo',\n",
              "  'company': 'Campco',\n",
              "  'price': '147',\n",
              "  'quantity': 369,\n",
              "  'y_Mfg.Date': '12-10-2020',\n",
              "  'z_Exp.Date': '12-08-2021'},\n",
              " '1030': {'a_name': 'Milky bar',\n",
              "  'company': 'Cadbury',\n",
              "  'price': '86',\n",
              "  'quantity': 211,\n",
              "  'y_Mfg.Date': '04-12-2020',\n",
              "  'z_Exp.Date': '19-10-2021'},\n",
              " '1031': {'a_name': 'Choco Bar',\n",
              "  'company': 'Nestle',\n",
              "  'price': '25',\n",
              "  'quantity': 456,\n",
              "  'y_Mfg.Date': '10-01-2020',\n",
              "  'z_Exp.Date': '11-08-2020'}}"
            ]
          },
          "metadata": {},
          "execution_count": 4
        }
      ]
    }
  ]
}