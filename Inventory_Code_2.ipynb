{
  "nbformat": 4,
  "nbformat_minor": 0,
  "metadata": {
    "colab": {
      "name": "Inventory_Code_2",
      "provenance": []
    },
    "kernelspec": {
      "name": "python3",
      "display_name": "Python 3"
    },
    "language_info": {
      "name": "python"
    }
  },
  "cells": [
    {
      "cell_type": "markdown",
      "metadata": {
        "id": "69vMkU-6G44d"
      },
      "source": [
        "***Read From Record.json File***"
      ]
    },
    {
      "cell_type": "code",
      "metadata": {
        "id": "apG_c_SyyD_C"
      },
      "source": [
        "import json #to input JSON libraries\n",
        "fp=open('record.json','r')\n",
        "fdata=fp.read()\n",
        "fp.close()\n",
        "\n",
        "#to convert data from string to dictionaries\n",
        "record=json.loads(fdata) \n"
      ],
      "execution_count": 49,
      "outputs": []
    },
    {
      "cell_type": "markdown",
      "metadata": {
        "id": "ms_UMW1nHkCU"
      },
      "source": [
        "***Purchase,Generating Bill & Printing on a File Updating records Managing sales etc***"
      ]
    },
    {
      "cell_type": "code",
      "metadata": {
        "colab": {
          "base_uri": "https://localhost:8080/"
        },
        "id": "Z5vJcEv2yWFk",
        "outputId": "cb977587-8e47-42ec-dfca-879bb6c0aed7"
      },
      "source": [
        "import time #to perform time operations\n",
        "\n",
        "#printing bill in text file\n",
        "bill=open('Bill.txt','w')\n",
        "\n",
        "#performing functionalities\n",
        "print('*****************WELCOME TO PURCHASING THE GOODS****************')\n",
        "user_name=input('Enter your Name ')\n",
        "phone=input('Enter the Contact Number ')\n",
        "\n",
        "bill.write('**********************************\\n'+'BILL generated for ' + user_name )\n",
        "bill.write( ' at '+ time.ctime() +'\\n**********************************\\n')\n",
        "print('--------------------------')\n",
        "print('###SALES OFFER:###\\nBuying more than 1 products: 5% discount\\nBuying more than 10 products: 15% discount\\nBuying more than 20 products: 30% discount')\n",
        "num=int(input('Enter the number of products you want to purchase '))\n",
        "print('Bill of {} is given below:'.format(str(user_name)))\n",
        "\n",
        "bill.write(\"Total Items purchased {}\\n\".format(num))\n",
        "\n",
        "t_bill=0\n",
        "doc={}\n",
        "if len(sales)==0:\n",
        "  sales={}\n",
        "  \n",
        "for i in range(num):\n",
        "  prod_id=input('Enter the Product ID of the item to be purchased ')\n",
        "  prod_qty=int(input('Enter the Product Quantity of the item to be purchased '))\n",
        "  print('==============================================')\n",
        "  print('Product  : ',record[prod_id]['a_name'])\n",
        "  print('Company  : ',record[prod_id]['company'])\n",
        "  print('Price    : ',record[prod_id]['price'])\n",
        "  print('Quantity : ',prod_qty)\n",
        "  print('Mfg.Date : ',record[prod_id]['y_Mfg.Date'])\n",
        "  print('Exp.Date : ',record[prod_id]['z_Exp.Date'])\n",
        "  if prod_qty<=record[prod_id]['quantity']:\n",
        "    record[prod_id]['quantity']=record[prod_id]['quantity']-prod_qty\n",
        "  else:\n",
        "    print('!!!!!!! Sorry not in stock. Try for Another !!!!!!!!1')\n",
        "  print('Amount  : ₹',prod_qty*int(record[prod_id]['price']))\n",
        "  t_bill+=prod_qty*int(record[prod_id]['price'])\n",
        "\n",
        "  bill.write(\"============================\\n\")\n",
        "  bill.write(\"Product ID: {}\\n\".format(str(prod_id)))\n",
        "  bill.write(\"Product Name: {}\\n\".format(record[prod_id]['a_name']))\n",
        "  bill.write(\"Product Company : {}\\n\".format(record[prod_id]['company']))\n",
        "  bill.write(\"Product Price: {}\\n\".format(record[prod_id]['price']))\n",
        "  bill.write(\"Product Quantity : {}\\n\".format(prod_qty))\n",
        "  bill.write(\"Amount : {}\\n\".format(prod_qty*int(record[prod_id]['price'])))\n",
        "      \n",
        "  doc[len(doc)+1]={'ID':prod_id, 'Quantity':prod_qty, 'Amount':int(record[prod_id]['price'])*prod_qty, 'Purchase Time':time.ctime(), 'User Contact':phone} \n",
        "print('---------------------------')  \n",
        "print('Total Amount : ₹',t_bill)\n",
        "if num>1 and num<=10:\n",
        "  disc=t_bill-(t_bill*0.05)\n",
        "  print('After 5% discount-->') \n",
        "elif num>10 and num<=20:\n",
        "  disc= t_bill-(t_bill*0.15)\n",
        "  print('After 15% discount-->')\n",
        "elif num>20:\n",
        "  disc=t_bill-(t_bill*0.3) \n",
        "  print('After 30% discount')\n",
        "else:\n",
        "  disc=t_bill  \n",
        "print('Paying Amount : ₹',disc)\n",
        "bill.write(\"------------------------\\nTotal Bill : {}\\n\".format(int(t_bill)))\n",
        "bill.write(\"Bill after Discount------------->\\n\")\n",
        "bill.write(\"Paying Amount : {}\\n\".format(int(disc)))\n",
        "bill.write(\"------------------THANKS FOR COMING.HAVE A GOOD DAY---------------\")\n",
        "bill.close()"
      ],
      "execution_count": 65,
      "outputs": [
        {
          "output_type": "stream",
          "name": "stdout",
          "text": [
            "*****************WELCOME TO PURCHASING THE GOODS****************\n",
            "Enter your Name Upendra\n",
            "Enter the Contact Number XXXXXXXX897\n",
            "--------------------------\n",
            "###SALES OFFER:###\n",
            "Buying more than 1 products: 5% discount\n",
            "Buying more than 10 products: 15% discount\n",
            "Buying more than 20 products: 30% discount\n",
            "Enter the number of products you want to purchase 2\n",
            "Bill of Upendra is given below:\n",
            "Enter the Product ID of the item to be purchased 1019\n",
            "Enter the Product Quantity of the item to be purchased 2\n",
            "==============================================\n",
            "Product  :  Treat\n",
            "Company  :  Campo\n",
            "Price    :  30\n",
            "Quantity :  2\n",
            "Mfg.Date :  08-07-2020\n",
            "Exp.Date :  09-03-2021\n",
            "Amount  : ₹ 60\n",
            "Enter the Product ID of the item to be purchased 1028\n",
            "Enter the Product Quantity of the item to be purchased 1\n",
            "==============================================\n",
            "Product  :  Fruit Drop\n",
            "Company  :  Parle\n",
            "Price    :  72\n",
            "Quantity :  1\n",
            "Mfg.Date :  11-10-2020\n",
            "Exp.Date :  16-06-2021\n",
            "Amount  : ₹ 72\n",
            "---------------------------\n",
            "Total Amount : ₹ 132\n",
            "After 5% discount-->\n",
            "Paying Amount : ₹ 125.4\n"
          ]
        }
      ]
    },
    {
      "cell_type": "markdown",
      "metadata": {
        "id": "AZDXGIQZIzHh"
      },
      "source": [
        "***Updating Record in JSON***"
      ]
    },
    {
      "cell_type": "code",
      "metadata": {
        "id": "N9amTYwhygDv"
      },
      "source": [
        "js=json.dumps(record)\n",
        "fd=open('record.json','w')\n",
        "fd.write(js)\n",
        "fd.close()"
      ],
      "execution_count": 68,
      "outputs": []
    },
    {
      "cell_type": "markdown",
      "metadata": {
        "id": "9sy8o7xZI6rW"
      },
      "source": [
        "***Sales JSON (Creating & Updating)***"
      ]
    },
    {
      "cell_type": "code",
      "metadata": {
        "id": "Ob16GR4syhW9"
      },
      "source": [
        "sl=open('sales.json','w')\n",
        "sales[len(sales)+1]={'Transaction':doc} \n",
        "fpp=json.dumps(sales)\n",
        "sl.write(fpp)\n",
        "sl.close()"
      ],
      "execution_count": 66,
      "outputs": []
    }
  ]
}