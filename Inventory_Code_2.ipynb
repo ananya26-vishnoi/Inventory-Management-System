{
  "nbformat": 4,
  "nbformat_minor": 0,
  "metadata": {
    "colab": {
      "name": "Inventory_Code_2",
      "provenance": [],
      "collapsed_sections": []
    },
    "kernelspec": {
      "name": "python3",
      "display_name": "Python 3"
    },
    "language_info": {
      "name": "python"
    }
  },
  "cells": [
    {
      "cell_type": "markdown",
      "metadata": {
        "id": "69vMkU-6G44d"
      },
      "source": [
        "***Read From Record.json File***"
      ]
    },
    {
      "cell_type": "code",
      "metadata": {
        "id": "apG_c_SyyD_C"
      },
      "source": [
        "import json #to input JSON libraries\n",
        "fp=open('record.json','r')\n",
        "fdata=fp.read()\n",
        "fp.close()\n",
        "\n",
        "#to convert data from string to dictionaries\n",
        "record=json.loads(fdata) \n"
      ],
      "execution_count": 70,
      "outputs": []
    },
    {
      "cell_type": "markdown",
      "metadata": {
        "id": "ms_UMW1nHkCU"
      },
      "source": [
        "***Purchase,Generating Bill & Printing on a File Updating records Managing sales etc***"
      ]
    },
    {
      "cell_type": "code",
      "metadata": {
        "colab": {
          "base_uri": "https://localhost:8080/"
        },
        "id": "Z5vJcEv2yWFk",
        "outputId": "9c1dbba6-01b9-4610-93b6-60c6bbe9e77c"
      },
      "source": [
        "import time #to perform time operations\n",
        "\n",
        "#printing bill in text file\n",
        "bill=open('Bill.txt','w')\n",
        "\n",
        "#performing functionalities\n",
        "print('*****************WELCOME TO PURCHASING THE GOODS****************')\n",
        "user_name=input('Enter your Name ')\n",
        "phone=input('Enter the Contact Number ')\n",
        "\n",
        "bill.write('**********************************\\n'+'BILL generated for ' + user_name )\n",
        "bill.write( ' at '+ time.ctime() +'\\n**********************************\\n')\n",
        "print('--------------------------')\n",
        "print('###SALES OFFER:###\\nBuying more than 1 products: 5% discount\\nBuying more than 10 products: 15% discount\\nBuying more than 20 products: 30% discount')\n",
        "num=int(input('Enter the number of products you want to purchase '))\n",
        "print('Bill of {} is given below:'.format(str(user_name)))\n",
        "\n",
        "bill.write(\"Total Items purchased {}\\n\".format(num))\n",
        "\n",
        "t_bill=0\n",
        "doc={}\n",
        "if len(sales)==0:\n",
        "  sales={}\n",
        "  \n",
        "for i in range(num):\n",
        "  prod_id=input('Enter the Product ID of the item to be purchased ')\n",
        "  prod_qty=int(input('Enter the Product Quantity of the item to be purchased '))\n",
        "  print('==============================================')\n",
        "  print('Product  : ',record[prod_id]['a_name'])\n",
        "  print('Company  : ',record[prod_id]['company'])\n",
        "  print('Price    : ',record[prod_id]['price'])\n",
        "  print('Quantity : ',prod_qty)\n",
        "  print('Mfg.Date : ',record[prod_id]['y_Mfg.Date'])\n",
        "  print('Exp.Date : ',record[prod_id]['z_Exp.Date'])\n",
        "  if prod_qty<=record[prod_id]['quantity']:\n",
        "    record[prod_id]['quantity']=record[prod_id]['quantity']-prod_qty\n",
        "  else:\n",
        "    print('!!!!!!! Sorry not in stock. Try for Another !!!!!!!!1')\n",
        "  print('Amount  : ₹',prod_qty*int(record[prod_id]['price']))\n",
        "  t_bill+=prod_qty*int(record[prod_id]['price'])\n",
        "\n",
        "  bill.write(\"============================\\n\")\n",
        "  bill.write(\"Product ID: {}\\n\".format(str(prod_id)))\n",
        "  bill.write(\"Product Name: {}\\n\".format(record[prod_id]['a_name']))\n",
        "  bill.write(\"Product Company : {}\\n\".format(record[prod_id]['company']))\n",
        "  bill.write(\"Product Price: {}\\n\".format(record[prod_id]['price']))\n",
        "  bill.write(\"Product Quantity : {}\\n\".format(prod_qty))\n",
        "  bill.write(\"Amount : {}\\n\".format(prod_qty*int(record[prod_id]['price'])))\n",
        "      \n",
        "  doc[len(doc)+1]={'ID':prod_id, 'Quantity':prod_qty, 'Amount':int(record[prod_id]['price'])*prod_qty, 'Purchase Time':time.ctime(), 'User Contact':phone} \n",
        "print('---------------------------')  \n",
        "print('Total Amount : ₹',t_bill)\n",
        "if num>1 and num<=10:\n",
        "  disc=t_bill-(t_bill*0.05)\n",
        "  print('After 5% discount-->') \n",
        "elif num>10 and num<=20:\n",
        "  disc= t_bill-(t_bill*0.15)\n",
        "  print('After 15% discount-->')\n",
        "elif num>20:\n",
        "  disc=t_bill-(t_bill*0.3) \n",
        "  print('After 30% discount')\n",
        "else:\n",
        "  disc=t_bill  \n",
        "print('Paying Amount : ₹',disc)\n",
        "bill.write(\"------------------------\\nTotal Bill : {}\\n\".format(int(t_bill)))\n",
        "bill.write(\"Bill after Discount------------->\\n\")\n",
        "bill.write(\"Paying Amount : {}\\n\".format(int(disc)))\n",
        "bill.write(\"------------------THANKS FOR COMING.HAVE A GOOD DAY---------------\")\n",
        "bill.close()"
      ],
      "execution_count": 99,
      "outputs": [
        {
          "output_type": "stream",
          "name": "stdout",
          "text": [
            "*****************WELCOME TO PURCHASING THE GOODS****************\n",
            "Enter your Name Upendra Pratap Singh\n",
            "Enter the Contact Number XXXXXXX122\n",
            "--------------------------\n",
            "###SALES OFFER:###\n",
            "Buying more than 1 products: 5% discount\n",
            "Buying more than 10 products: 15% discount\n",
            "Buying more than 20 products: 30% discount\n",
            "Enter the number of products you want to purchase 3\n",
            "Bill of Upendra Pratap Singh is given below:\n",
            "Enter the Product ID of the item to be purchased 1001\n",
            "Enter the Product Quantity of the item to be purchased 1\n",
            "==============================================\n",
            "Product  :  Choco Cake\n",
            "Company  :  Cadbury\n",
            "Price    :  100\n",
            "Quantity :  1\n",
            "Mfg.Date :  16-10-2020\n",
            "Exp.Date :  7-5-2021\n",
            "Amount  : ₹ 100\n",
            "Enter the Product ID of the item to be purchased 1002\n",
            "Enter the Product Quantity of the item to be purchased 1\n",
            "==============================================\n",
            "Product  :  Milk Cake\n",
            "Company  :  KitKat\n",
            "Price    :  800\n",
            "Quantity :  1\n",
            "Mfg.Date :  5-9-2020\n",
            "Exp.Date :  12-3-2021\n",
            "Amount  : ₹ 800\n",
            "Enter the Product ID of the item to be purchased 1003\n",
            "Enter the Product Quantity of the item to be purchased 3\n",
            "==============================================\n",
            "Product  :  Dark Chocolate\n",
            "Company  :  Amul\n",
            "Price    :  120\n",
            "Quantity :  3\n",
            "Mfg.Date :  12-02-2020\n",
            "Exp.Date :  13-05-2020\n",
            "Amount  : ₹ 360\n",
            "---------------------------\n",
            "Total Amount : ₹ 1260\n",
            "After 5% discount-->\n",
            "Paying Amount : ₹ 1197.0\n"
          ]
        }
      ]
    },
    {
      "cell_type": "markdown",
      "metadata": {
        "id": "AZDXGIQZIzHh"
      },
      "source": [
        "***Updating Record in JSON***"
      ]
    },
    {
      "cell_type": "code",
      "metadata": {
        "id": "N9amTYwhygDv"
      },
      "source": [
        "js=json.dumps(record)\n",
        "fd=open('record.json','w')\n",
        "fd.write(js)\n",
        "fd.close()"
      ],
      "execution_count": 100,
      "outputs": []
    },
    {
      "cell_type": "markdown",
      "metadata": {
        "id": "9sy8o7xZI6rW"
      },
      "source": [
        "***Sales JSON (Creating & Updating)***"
      ]
    },
    {
      "cell_type": "code",
      "metadata": {
        "id": "Ob16GR4syhW9"
      },
      "source": [
        "sl=open('sales.json','w')\n",
        "sales[len(sales)+1]={'Transaction':doc} \n",
        "fpp=json.dumps(sales)\n",
        "sl.write(fpp)\n",
        "sl.close()"
      ],
      "execution_count": 101,
      "outputs": []
    },
    {
      "cell_type": "markdown",
      "metadata": {
        "id": "3Rg1pH7D_fkx"
      },
      "source": [
        "***Updated File Overwiew***"
      ]
    },
    {
      "cell_type": "code",
      "metadata": {
        "colab": {
          "base_uri": "https://localhost:8080/"
        },
        "id": "jQmnLcbmR_vH",
        "outputId": "6e0037e6-f82d-44b6-ad18-6deb5d60fecf"
      },
      "source": [
        "record"
      ],
      "execution_count": 88,
      "outputs": [
        {
          "output_type": "execute_result",
          "data": {
            "text/plain": [
              "{'1001': {'a_name': 'Choco Cake',\n",
              "  'company': 'Cadbury',\n",
              "  'price': 100,\n",
              "  'quantity': 34,\n",
              "  'y_Mfg.Date': '16-10-2020',\n",
              "  'z_Exp.Date': '7-5-2021'},\n",
              " '1002': {'a_name': 'Milk Cake',\n",
              "  'company': 'KitKat',\n",
              "  'price': 800,\n",
              "  'quantity': 100,\n",
              "  'y_Mfg.Date': '5-9-2020',\n",
              "  'z_Exp.Date': '12-3-2021'},\n",
              " '1003': {'a_name': 'Dark Chocolate',\n",
              "  'company': 'Amul',\n",
              "  'price': '120',\n",
              "  'quantity': 762,\n",
              "  'y_Mfg.Date': '12-02-2020',\n",
              "  'z_Exp.Date': '13-05-2020'},\n",
              " '1004': {'a_name': 'Galaxy',\n",
              "  'company': 'Cola',\n",
              "  'price': '560',\n",
              "  'quantity': 85,\n",
              "  'y_Mfg.Date': '05-03-2020',\n",
              "  'z_Exp.Date': '18-09-2020'},\n",
              " '1005': {'a_name': 'Perk',\n",
              "  'company': 'Cadbury',\n",
              "  'price': '55',\n",
              "  'quantity': 180,\n",
              "  'y_Mfg.Date': '10-01-2020',\n",
              "  'z_Exp.Date': '12-06-2020'},\n",
              " '1006': {'a_name': 'Friberg',\n",
              "  'company': 'Parle',\n",
              "  'price': '120',\n",
              "  'quantity': 150,\n",
              "  'y_Mfg.Date': '06-04-2020',\n",
              "  'z_Exp.Date': '11-11-2020'},\n",
              " '1007': {'a_name': 'One Bar',\n",
              "  'company': 'Nestle',\n",
              "  'price': '60',\n",
              "  'quantity': 500,\n",
              "  'y_Mfg.Date': '13-05-2020',\n",
              "  'z_Exp.Date': '19-11-2020'},\n",
              " '1008': {'a_name': 'Chuckles',\n",
              "  'company': 'Lotus',\n",
              "  'price': '600',\n",
              "  'quantity': 453,\n",
              "  'y_Mfg.Date': '30-12-2020',\n",
              "  'z_Exp.Date': '15-05-2021'},\n",
              " '1009': {'a_name': 'snickers',\n",
              "  'company': 'Mars',\n",
              "  'price': '40',\n",
              "  'quantity': 650,\n",
              "  'y_Mfg.Date': '12-11-2020',\n",
              "  'z_Exp.Date': '24-06-2021'},\n",
              " '1010': {'a_name': 'ChocOn',\n",
              "  'company': 'Mahak',\n",
              "  'price': '210',\n",
              "  'quantity': 160,\n",
              "  'y_Mfg.Date': '07-05-2020',\n",
              "  'z_Exp.Date': '23-08-2020'},\n",
              " '1011': {'a_name': 'Fun Fan',\n",
              "  'company': 'Campo',\n",
              "  'price': '51',\n",
              "  'quantity': 627,\n",
              "  'y_Mfg.Date': '05-12-2020',\n",
              "  'z_Exp.Date': '29-06-2021'},\n",
              " '1012': {'a_name': 'Kinder Joy',\n",
              "  'company': 'Ferrero',\n",
              "  'price': '60',\n",
              "  'quantity': 850,\n",
              "  'y_Mfg.Date': '21-01-2020',\n",
              "  'z_Exp.Date': '16-07-2020'},\n",
              " '1013': {'a_name': 'Brookside',\n",
              "  'company': 'Hershey',\n",
              "  'price': '141',\n",
              "  'quantity': 246,\n",
              "  'y_Mfg.Date': '14-08-2020',\n",
              "  'z_Exp.Date': '15-02-2021'},\n",
              " '1014': {'a_name': 'Chocolate',\n",
              "  'company': 'Pasari',\n",
              "  'price': '475',\n",
              "  'quantity': 951,\n",
              "  'y_Mfg.Date': '09-09-2020',\n",
              "  'z_Exp.Date': '12-12-2020'},\n",
              " '1015': {'a_name': 'Choco Pie',\n",
              "  'company': 'Lotte',\n",
              "  'price': '25',\n",
              "  'quantity': 980,\n",
              "  'y_Mfg.Date': '03-04-2020',\n",
              "  'z_Exp.Date': '05-06-2020'},\n",
              " '1016': {'a_name': 'Milky Bar',\n",
              "  'company': 'Nestle',\n",
              "  'price': '15',\n",
              "  'quantity': 997,\n",
              "  'y_Mfg.Date': '01-01-2020',\n",
              "  'z_Exp.Date': '16-09-2020'},\n",
              " '1017': {'a_name': 'Eclairs',\n",
              "  'company': 'CandyMan',\n",
              "  'price': '42',\n",
              "  'quantity': 563,\n",
              "  'y_Mfg.Date': '17-11-2020',\n",
              "  'z_Exp.Date': '15-04-2021'},\n",
              " '1018': {'a_name': 'Kismi Bar',\n",
              "  'company': 'Parle',\n",
              "  'price': '45',\n",
              "  'quantity': 870,\n",
              "  'y_Mfg.Date': '04-07-2020',\n",
              "  'z_Exp.Date': '31-12-2020'},\n",
              " '1019': {'a_name': 'Treat',\n",
              "  'company': 'Campo',\n",
              "  'price': '30',\n",
              "  'quantity': 348,\n",
              "  'y_Mfg.Date': '08-07-2020',\n",
              "  'z_Exp.Date': '09-03-2021'},\n",
              " '1020': {'a_name': 'Twix',\n",
              "  'company': 'Mars',\n",
              "  'price': '78',\n",
              "  'quantity': 456,\n",
              "  'y_Mfg.Date': '01-03-2020',\n",
              "  'z_Exp.Date': '10-10-2020'},\n",
              " '1021': {'a_name': 'Almond Bar',\n",
              "  'company': 'Amul',\n",
              "  'price': '65',\n",
              "  'quantity': 350,\n",
              "  'y_Mfg.Date': '10-04-2020',\n",
              "  'z_Exp.Date': '05-10-2020'},\n",
              " '1022': {'a_name': 'Kajoos',\n",
              "  'company': 'Lotus',\n",
              "  'price': '16',\n",
              "  'quantity': 254,\n",
              "  'y_Mfg.Date': '09-04-2020',\n",
              "  'z_Exp.Date': '25-10-2020'},\n",
              " '1023': {'a_name': 'Silk',\n",
              "  'company': 'Cadbury',\n",
              "  'price': '250',\n",
              "  'quantity': 789,\n",
              "  'y_Mfg.Date': '14-10-2020',\n",
              "  'z_Exp.Date': '28-10-2021'},\n",
              " '1024': {'a_name': 'Mon Cheri',\n",
              "  'company': 'Ferrero',\n",
              "  'price': '142',\n",
              "  'quantity': 943,\n",
              "  'y_Mfg.Date': '06-02-2020',\n",
              "  'z_Exp.Date': '09-07-2020'},\n",
              " '1025': {'a_name': 'Melto',\n",
              "  'company': 'Campco',\n",
              "  'price': '97',\n",
              "  'quantity': 977,\n",
              "  'y_Mfg.Date': '22-11-2020',\n",
              "  'z_Exp.Date': '13-05-2021'},\n",
              " '1026': {'a_name': 'Coconut',\n",
              "  'company': 'ChocOn',\n",
              "  'price': '41',\n",
              "  'quantity': 238,\n",
              "  'y_Mfg.Date': '18-09-2020',\n",
              "  'z_Exp.Date': '27-12-2020'},\n",
              " '1027': {'a_name': 'Toffichoo',\n",
              "  'company': 'CandyMan',\n",
              "  'price': '58',\n",
              "  'quantity': 451,\n",
              "  'y_Mfg.Date': '02-02-2020',\n",
              "  'z_Exp.Date': '09-11-2020'},\n",
              " '1028': {'a_name': 'Fruit Drop',\n",
              "  'company': 'Parle',\n",
              "  'price': '72',\n",
              "  'quantity': 752,\n",
              "  'y_Mfg.Date': '11-10-2020',\n",
              "  'z_Exp.Date': '16-06-2021'},\n",
              " '1029': {'a_name': 'Turbo',\n",
              "  'company': 'Campco',\n",
              "  'price': '147',\n",
              "  'quantity': 369,\n",
              "  'y_Mfg.Date': '12-10-2020',\n",
              "  'z_Exp.Date': '12-08-2021'},\n",
              " '1030': {'a_name': 'Milky bar',\n",
              "  'company': 'Cadbury',\n",
              "  'price': '86',\n",
              "  'quantity': 208,\n",
              "  'y_Mfg.Date': '04-12-2020',\n",
              "  'z_Exp.Date': '19-10-2021'}}"
            ]
          },
          "metadata": {},
          "execution_count": 88
        }
      ]
    },
    {
      "cell_type": "markdown",
      "metadata": {
        "id": "T0ejN0bQ_oek"
      },
      "source": [
        "***Sales File Overwiew***"
      ]
    },
    {
      "cell_type": "code",
      "metadata": {
        "colab": {
          "base_uri": "https://localhost:8080/"
        },
        "id": "ZIVRP0Y_QsGi",
        "outputId": "b8d0bc61-0b38-484f-8e61-cd604593e9e2"
      },
      "source": [
        "sales"
      ],
      "execution_count": 95,
      "outputs": [
        {
          "output_type": "execute_result",
          "data": {
            "text/plain": [
              "{1: {'Transaction': {1: {'Amount': 210,\n",
              "    'ID': '1010',\n",
              "    'Purchase Time': 'Mon Sep  6 12:33:09 2021',\n",
              "    'Quantity': 1,\n",
              "    'User Contact': 'XXXXXXX123'},\n",
              "   2: {'Amount': 147,\n",
              "    'ID': '1029',\n",
              "    'Purchase Time': 'Mon Sep  6 12:33:16 2021',\n",
              "    'Quantity': 1,\n",
              "    'User Contact': 'XXXXXXX123'}}},\n",
              " 2: {'Transaction': {1: {'Amount': 60,\n",
              "    'ID': '1019',\n",
              "    'Purchase Time': 'Mon Sep  6 12:34:03 2021',\n",
              "    'Quantity': 2,\n",
              "    'User Contact': 'XXXXXXXX897'},\n",
              "   2: {'Amount': 72,\n",
              "    'ID': '1028',\n",
              "    'Purchase Time': 'Mon Sep  6 12:34:08 2021',\n",
              "    'Quantity': 1,\n",
              "    'User Contact': 'XXXXXXXX897'}}},\n",
              " 3: {'Transaction': {1: {'Amount': 360,\n",
              "    'ID': '1003',\n",
              "    'Purchase Time': 'Mon Sep  6 13:17:46 2021',\n",
              "    'Quantity': 3,\n",
              "    'User Contact': 'XXXXXXX457'},\n",
              "   2: {'Amount': 60,\n",
              "    'ID': '1019',\n",
              "    'Purchase Time': 'Mon Sep  6 13:17:58 2021',\n",
              "    'Quantity': 2,\n",
              "    'User Contact': 'XXXXXXX457'},\n",
              "   3: {'Amount': 325,\n",
              "    'ID': '1021',\n",
              "    'Purchase Time': 'Mon Sep  6 13:18:09 2021',\n",
              "    'Quantity': 5,\n",
              "    'User Contact': 'XXXXXXX457'}}},\n",
              " 4: {'Transaction': {1: {'Amount': 258,\n",
              "    'ID': '1030',\n",
              "    'Purchase Time': 'Mon Sep  6 13:19:45 2021',\n",
              "    'Quantity': 3,\n",
              "    'User Contact': 'XXXXXXX369'},\n",
              "   2: {'Amount': 144,\n",
              "    'ID': '1028',\n",
              "    'Purchase Time': 'Mon Sep  6 13:19:51 2021',\n",
              "    'Quantity': 2,\n",
              "    'User Contact': 'XXXXXXX369'},\n",
              "   3: {'Amount': 485,\n",
              "    'ID': '1025',\n",
              "    'Purchase Time': 'Mon Sep  6 13:20:34 2021',\n",
              "    'Quantity': 5,\n",
              "    'User Contact': 'XXXXXXX369'},\n",
              "   4: {'Amount': 42,\n",
              "    'ID': '1017',\n",
              "    'Purchase Time': 'Mon Sep  6 13:20:49 2021',\n",
              "    'Quantity': 1,\n",
              "    'User Contact': 'XXXXXXX369'}}},\n",
              " 5: {'Transaction': {1: {'Amount': 130,\n",
              "    'ID': '1021',\n",
              "    'Purchase Time': 'Mon Sep  6 13:21:54 2021',\n",
              "    'Quantity': 2,\n",
              "    'User Contact': 'XXXXXXX418'}}},\n",
              " 6: {'Transaction': {1: {'Amount': 102,\n",
              "    'ID': '1011',\n",
              "    'Purchase Time': 'Mon Sep  6 13:22:48 2021',\n",
              "    'Quantity': 2,\n",
              "    'User Contact': 'XXXXXXX555'},\n",
              "   2: {'Amount': 60,\n",
              "    'ID': '1016',\n",
              "    'Purchase Time': 'Mon Sep  6 13:22:54 2021',\n",
              "    'Quantity': 4,\n",
              "    'User Contact': 'XXXXXXX555'}}},\n",
              " 7: {'Transaction': {1: {'Amount': 78,\n",
              "    'ID': '1020',\n",
              "    'Purchase Time': 'Mon Sep  6 13:25:32 2021',\n",
              "    'Quantity': 1,\n",
              "    'User Contact': 'XXXXXXX154'}}},\n",
              " 8: {'Transaction': {1: {'Amount': 58,\n",
              "    'ID': '1027',\n",
              "    'Purchase Time': 'Mon Sep  6 13:26:22 2021',\n",
              "    'Quantity': 1,\n",
              "    'User Contact': 'XXXXXXX749'}}}}"
            ]
          },
          "metadata": {},
          "execution_count": 95
        }
      ]
    }
  ]
}